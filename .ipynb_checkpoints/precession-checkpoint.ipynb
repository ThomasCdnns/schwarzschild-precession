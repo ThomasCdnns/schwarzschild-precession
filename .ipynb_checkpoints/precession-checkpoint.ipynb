{
 "cells": [
  {
   "cell_type": "markdown",
   "metadata": {},
   "source": [
    "# L'orbite de S2 et sa précession de Schwarzschild\n",
    "\n",
    "[Gravity Collaboration et al. (2020)] (https://arxiv.org/pdf/2004.07187.pdf) a annoncé la détection de la précession de Schwarzschild de l'étoile S2 qui est en orbite autour du trou noir supermassif au centre de la Voie lactée.\n",
    "\n",
    "## Conditions initiales du modèle\n",
    "\n",
    "Les conditions initiales de l'étude sont définies à partir de coordonnées basées sur des éléments orbitaux, nous devons donc les convertir en coordonnées cartésiennes. Pour ce faire, nous utilisons la bibilothèque ``rebound``. Nous mettons en place une simulation avec les éléments orbitaux donnés par l'étude :"
   ]
  },
  {
   "cell_type": "code",
   "execution_count": 1,
   "metadata": {},
   "outputs": [
    {
     "name": "stdout",
     "output_type": "stream",
     "text": [
      "galpyWarning: libgalpy C extension module not loaded, because libgalpy.cpython-38-darwin.so image was not found\n"
     ]
    }
   ],
   "source": [
    "import numpy\n",
    "import astropy.units as u\n",
    "import rebound\n",
    "from galpy.orbit import Orbit\n",
    "from galpy.util import bovy_coords\n",
    "from galpy.potential import KeplerPotential\n",
    "import matplotlib.animation as animation\n",
    "from IPython.display import HTML\n",
    "%matplotlib inline\n",
    "import matplotlib as mpl\n",
    "import matplotlib.pyplot as plt\n",
    "from galpy.util import bovy_plot\n",
    "bovy_plot.bovy_print(axes_labelsize=17.,text_fontsize=12.,\n",
    "                     xtick_labelsize=15.,ytick_labelsize=15.)\n",
    "_SAVE_GIFS= False"
   ]
  },
  {
   "cell_type": "code",
   "execution_count": 2,
   "metadata": {},
   "outputs": [],
   "source": [
    "R0= 8246.7*u.pc\n",
    "vo= 220.*u.km/u.s\n",
    "MSgrA= 4.261*10**6*u.Msun\n",
    "sim= rebound.Simulation()\n",
    "sim.units= ('AU', 'yr', 'Msun')\n",
    "# GC\n",
    "sim.add(m=MSgrA.to_value(u.Msun))\n",
    "# S2\n",
    "sim.add(m=0.,\n",
    "        a=(125.058*u.mas*R0).to_value(u.AU,equivalencies=u.dimensionless_angles()),\n",
    "        e=0.884649,\n",
    "        inc=(134.567*u.deg).to_value(u.rad),\n",
    "        omega=(66.263*u.deg).to_value(u.rad),\n",
    "        Omega=(228.171*u.deg).to_value(u.rad),\n",
    "        T=(8.37900*u.yr).to_value(u.yr)-0.35653101) # time since 2010's apocenter (calculated: 2010+0.35653101)"
   ]
  },
  {
   "cell_type": "markdown",
   "metadata": {},
   "source": [
    "Ensuite, nous convertissons en coordonnées cartésiennes cylindriques et initialisons une orbite ``galpy``. Le référentiel cartésien utilisé dans l'étude est celui dont la composante $X-Y$ est le plan du ciel et $Z$ la direction de la ligne de visée où la composante $Y$ correspond à RA et la composante $X$ à Dec. Ainsi, nous initialisons l'orbite dans ``galpy`` en utilisant ``radec=True`` et calculons les coordonnées initiales RA, Dec, dist, pmra, pmdec et vlos en utilisant la position de Sgr A* comme référence :"
   ]
  },
  {
   "cell_type": "code",
   "execution_count": 3,
   "metadata": {},
   "outputs": [],
   "source": [
    "ogc= Orbit([0.,0.,0.,0.,0.,0.],ro=R0,vo=vo)"
   ]
  },
  {
   "cell_type": "code",
   "execution_count": 4,
   "metadata": {},
   "outputs": [],
   "source": [
    "pt= sim.particles[1]\n",
    "o= Orbit([(ogc.ra()*u.deg+(pt.y*u.AU/R0).to(u.deg,equivalencies=u.dimensionless_angles())).to_value(u.deg),\n",
    "          (ogc.dec()*u.deg+(pt.x*u.AU/R0).to(u.deg,equivalencies=u.dimensionless_angles())).to_value(u.deg),\n",
    "          (ogc.dist()*u.kpc+pt.z*u.AU).to_value(u.kpc),\n",
    "          (ogc.pmra()*(u.mas/u.yr)+(pt.vy*u.AU/u.yr/R0).to(u.mas/u.yr,equivalencies=u.dimensionless_angles())).to_value(u.mas/u.yr),\n",
    "          (ogc.pmdec()*(u.mas/u.yr)+(pt.vx*u.AU/u.yr/R0).to(u.mas/u.yr,equivalencies=u.dimensionless_angles())).to_value(u.mas/u.yr),\n",
    "          (ogc.vlos()*(u.km/u.s)+pt.vz*u.AU/u.yr).to_value(u.km/u.s)],radec=True,ro=R0,vo=vo)"
   ]
  },
  {
   "cell_type": "markdown",
   "metadata": {},
   "source": [
    "## Intégrale de l'orbite\n",
    "\n",
    "Intégrons l'orbite avec la bibliothèque ``galpy``:"
   ]
  },
  {
   "cell_type": "code",
   "execution_count": 5,
   "metadata": {},
   "outputs": [
    {
     "name": "stdout",
     "output_type": "stream",
     "text": [
      "galpyWarning: Cannot use C integration because C extension not loaded (using leapfrog instead)\n"
     ]
    },
    {
     "ename": "KeyboardInterrupt",
     "evalue": "",
     "output_type": "error",
     "traceback": [
      "\u001b[0;31m---------------------------------------------------------------------------\u001b[0m",
      "\u001b[0;31mKeyboardInterrupt\u001b[0m                         Traceback (most recent call last)",
      "Input \u001b[0;32mIn [5]\u001b[0m, in \u001b[0;36m<module>\u001b[0;34m\u001b[0m\n\u001b[1;32m      2\u001b[0m times\u001b[38;5;241m=\u001b[39m numpy\u001b[38;5;241m.\u001b[39mlinspace(\u001b[38;5;241m0.\u001b[39m,periods\u001b[38;5;241m*\u001b[39m\u001b[38;5;241m16.0455\u001b[39m,\u001b[38;5;241m100001\u001b[39m)\u001b[38;5;241m*\u001b[39mu\u001b[38;5;241m.\u001b[39myr \u001b[38;5;66;03m# 2 periods\u001b[39;00m\n\u001b[1;32m      3\u001b[0m kp\u001b[38;5;241m=\u001b[39m KeplerPotential(amp\u001b[38;5;241m=\u001b[39mMSgrA,ro\u001b[38;5;241m=\u001b[39mR0)\n\u001b[0;32m----> 4\u001b[0m \u001b[43mo\u001b[49m\u001b[38;5;241;43m.\u001b[39;49m\u001b[43mintegrate\u001b[49m\u001b[43m(\u001b[49m\u001b[43mtimes\u001b[49m\u001b[43m,\u001b[49m\u001b[43mkp\u001b[49m\u001b[43m)\u001b[49m\n",
      "File \u001b[0;32m~/miniforge3/envs/precession2/lib/python3.8/site-packages/galpy/orbit/Orbits.py:1144\u001b[0m, in \u001b[0;36mOrbit.integrate\u001b[0;34m(self, t, pot, method, dt, numcores, force_map)\u001b[0m\n\u001b[1;32m   1141\u001b[0m         out, msg\u001b[38;5;241m=\u001b[39m integratePlanarOrbit(\u001b[38;5;28mself\u001b[39m\u001b[38;5;241m.\u001b[39m_pot,\u001b[38;5;28mself\u001b[39m\u001b[38;5;241m.\u001b[39mvxvv,t,\n\u001b[1;32m   1142\u001b[0m                                        method,numcores\u001b[38;5;241m=\u001b[39mnumcores,dt\u001b[38;5;241m=\u001b[39mdt)\n\u001b[1;32m   1143\u001b[0m     \u001b[38;5;28;01melse\u001b[39;00m:\n\u001b[0;32m-> 1144\u001b[0m         out, msg\u001b[38;5;241m=\u001b[39m \u001b[43mintegrateFullOrbit\u001b[49m\u001b[43m(\u001b[49m\u001b[38;5;28;43mself\u001b[39;49m\u001b[38;5;241;43m.\u001b[39;49m\u001b[43m_pot\u001b[49m\u001b[43m,\u001b[49m\u001b[38;5;28;43mself\u001b[39;49m\u001b[38;5;241;43m.\u001b[39;49m\u001b[43mvxvv\u001b[49m\u001b[43m,\u001b[49m\u001b[43mt\u001b[49m\u001b[43m,\u001b[49m\n\u001b[1;32m   1145\u001b[0m \u001b[43m                                     \u001b[49m\u001b[43mmethod\u001b[49m\u001b[43m,\u001b[49m\u001b[43mnumcores\u001b[49m\u001b[38;5;241;43m=\u001b[39;49m\u001b[43mnumcores\u001b[49m\u001b[43m,\u001b[49m\u001b[43mdt\u001b[49m\u001b[38;5;241;43m=\u001b[39;49m\u001b[43mdt\u001b[49m\u001b[43m)\u001b[49m\n\u001b[1;32m   1146\u001b[0m \u001b[38;5;28;01melse\u001b[39;00m:\n\u001b[1;32m   1147\u001b[0m     warnings\u001b[38;5;241m.\u001b[39mwarn(\u001b[38;5;124m\"\u001b[39m\u001b[38;5;124mUsing C implementation to integrate orbits\u001b[39m\u001b[38;5;124m\"\u001b[39m,\n\u001b[1;32m   1148\u001b[0m                   galpyWarningVerbose)\n",
      "File \u001b[0;32m~/miniforge3/envs/precession2/lib/python3.8/site-packages/galpy/orbit/integrateFullOrbit.py:561\u001b[0m, in \u001b[0;36mintegrateFullOrbit\u001b[0;34m(pot, yo, t, int_method, rtol, atol, numcores, dt)\u001b[0m\n\u001b[1;32m    558\u001b[0m         \u001b[38;5;28;01mreturn\u001b[39;00m integrateFullOrbit_c(pot,numpy\u001b[38;5;241m.\u001b[39mcopy(vxvv),\n\u001b[1;32m    559\u001b[0m                                     t,int_method,dt\u001b[38;5;241m=\u001b[39mdt)[\u001b[38;5;241m0\u001b[39m]\n\u001b[1;32m    560\u001b[0m \u001b[38;5;28;01mif\u001b[39;00m \u001b[38;5;28mlen\u001b[39m(yo) \u001b[38;5;241m==\u001b[39m \u001b[38;5;241m1\u001b[39m: \u001b[38;5;66;03m# Can't map a single value...\u001b[39;00m\n\u001b[0;32m--> 561\u001b[0m     out\u001b[38;5;241m=\u001b[39m numpy\u001b[38;5;241m.\u001b[39matleast_3d(\u001b[43mintegrate_for_map\u001b[49m\u001b[43m(\u001b[49m\u001b[43myo\u001b[49m\u001b[43m[\u001b[49m\u001b[38;5;241;43m0\u001b[39;49m\u001b[43m]\u001b[49m\u001b[43m)\u001b[49m\u001b[38;5;241m.\u001b[39mT)\u001b[38;5;241m.\u001b[39mT\n\u001b[1;32m    562\u001b[0m \u001b[38;5;28;01melse\u001b[39;00m:\n\u001b[1;32m    563\u001b[0m     out\u001b[38;5;241m=\u001b[39m numpy\u001b[38;5;241m.\u001b[39marray((parallel_map(integrate_for_map,yo,numcores\u001b[38;5;241m=\u001b[39mnumcores)))\n",
      "File \u001b[0;32m~/miniforge3/envs/precession2/lib/python3.8/site-packages/galpy/orbit/integrateFullOrbit.py:499\u001b[0m, in \u001b[0;36mintegrateFullOrbit.<locals>.integrate_for_map\u001b[0;34m(vxvv)\u001b[0m\n\u001b[1;32m    490\u001b[0m this_vxvv\u001b[38;5;241m=\u001b[39m numpy\u001b[38;5;241m.\u001b[39marray([vxvv[\u001b[38;5;241m0\u001b[39m]\u001b[38;5;241m*\u001b[39mnumpy\u001b[38;5;241m.\u001b[39mcos(vxvv[\u001b[38;5;241m5\u001b[39m]),\n\u001b[1;32m    491\u001b[0m                      vxvv[\u001b[38;5;241m0\u001b[39m]\u001b[38;5;241m*\u001b[39mnumpy\u001b[38;5;241m.\u001b[39msin(vxvv[\u001b[38;5;241m5\u001b[39m]),\n\u001b[1;32m    492\u001b[0m                      vxvv[\u001b[38;5;241m3\u001b[39m],\n\u001b[0;32m   (...)\u001b[0m\n\u001b[1;32m    496\u001b[0m                          \u001b[38;5;241m+\u001b[39mvxvv[\u001b[38;5;241m1\u001b[39m]\u001b[38;5;241m*\u001b[39mnumpy\u001b[38;5;241m.\u001b[39msin(vxvv[\u001b[38;5;241m5\u001b[39m]),\n\u001b[1;32m    497\u001b[0m                      vxvv[\u001b[38;5;241m4\u001b[39m]])\n\u001b[1;32m    498\u001b[0m \u001b[38;5;66;03m#integrate\u001b[39;00m\n\u001b[0;32m--> 499\u001b[0m out\u001b[38;5;241m=\u001b[39m \u001b[43msymplecticode\u001b[49m\u001b[38;5;241;43m.\u001b[39;49m\u001b[43mleapfrog\u001b[49m\u001b[43m(\u001b[49m\u001b[43m_rectForce\u001b[49m\u001b[43m,\u001b[49m\u001b[43mthis_vxvv\u001b[49m\u001b[43m,\u001b[49m\n\u001b[1;32m    500\u001b[0m \u001b[43m                            \u001b[49m\u001b[43mt\u001b[49m\u001b[43m,\u001b[49m\u001b[43margs\u001b[49m\u001b[38;5;241;43m=\u001b[39;49m\u001b[43m(\u001b[49m\u001b[43mpot\u001b[49m\u001b[43m,\u001b[49m\u001b[43m)\u001b[49m\u001b[43m,\u001b[49m\u001b[43mrtol\u001b[49m\u001b[38;5;241;43m=\u001b[39;49m\u001b[43mrtol\u001b[49m\u001b[43m)\u001b[49m\n\u001b[1;32m    501\u001b[0m \u001b[38;5;66;03m#go back to the cylindrical frame\u001b[39;00m\n\u001b[1;32m    502\u001b[0m R\u001b[38;5;241m=\u001b[39m numpy\u001b[38;5;241m.\u001b[39msqrt(out[:,\u001b[38;5;241m0\u001b[39m]\u001b[38;5;241m*\u001b[39m\u001b[38;5;241m*\u001b[39m\u001b[38;5;241m2.\u001b[39m\u001b[38;5;241m+\u001b[39mout[:,\u001b[38;5;241m1\u001b[39m]\u001b[38;5;241m*\u001b[39m\u001b[38;5;241m*\u001b[39m\u001b[38;5;241m2.\u001b[39m)\n",
      "File \u001b[0;32m~/miniforge3/envs/precession2/lib/python3.8/site-packages/galpy/util/bovy_symplecticode.py:71\u001b[0m, in \u001b[0;36mleapfrog\u001b[0;34m(func, yo, t, args, rtol, atol)\u001b[0m\n\u001b[1;32m     69\u001b[0m q12\u001b[38;5;241m=\u001b[39m leapfrog_leapq(qo,po,dt\u001b[38;5;241m/\u001b[39m\u001b[38;5;241m2.\u001b[39m)\n\u001b[1;32m     70\u001b[0m \u001b[38;5;66;03m#kick\u001b[39;00m\n\u001b[0;32m---> 71\u001b[0m force\u001b[38;5;241m=\u001b[39m \u001b[43mfunc\u001b[49m\u001b[43m(\u001b[49m\u001b[43mq12\u001b[49m\u001b[43m,\u001b[49m\u001b[38;5;241;43m*\u001b[39;49m\u001b[43margs\u001b[49m\u001b[43m,\u001b[49m\u001b[43mt\u001b[49m\u001b[38;5;241;43m=\u001b[39;49m\u001b[43mto\u001b[49m\u001b[38;5;241;43m+\u001b[39;49m\u001b[43mdt\u001b[49m\u001b[38;5;241;43m/\u001b[39;49m\u001b[38;5;241;43m2\u001b[39;49m\u001b[43m)\u001b[49m\n\u001b[1;32m     72\u001b[0m po\u001b[38;5;241m=\u001b[39m leapfrog_leapp(po,dt,force)\n\u001b[1;32m     73\u001b[0m \u001b[38;5;66;03m#drift\u001b[39;00m\n",
      "File \u001b[0;32m~/miniforge3/envs/precession2/lib/python3.8/site-packages/galpy/orbit/integrateFullOrbit.py:641\u001b[0m, in \u001b[0;36m_rectForce\u001b[0;34m(x, pot, t)\u001b[0m\n\u001b[1;32m    639\u001b[0m \u001b[38;5;66;03m#calculate forces\u001b[39;00m\n\u001b[1;32m    640\u001b[0m Rforce\u001b[38;5;241m=\u001b[39m _evaluateRforces(pot,R,x[\u001b[38;5;241m2\u001b[39m],phi\u001b[38;5;241m=\u001b[39mphi,t\u001b[38;5;241m=\u001b[39mt)\n\u001b[0;32m--> 641\u001b[0m phiforce\u001b[38;5;241m=\u001b[39m \u001b[43m_evaluatephiforces\u001b[49m\u001b[43m(\u001b[49m\u001b[43mpot\u001b[49m\u001b[43m,\u001b[49m\u001b[43mR\u001b[49m\u001b[43m,\u001b[49m\u001b[43mx\u001b[49m\u001b[43m[\u001b[49m\u001b[38;5;241;43m2\u001b[39;49m\u001b[43m]\u001b[49m\u001b[43m,\u001b[49m\u001b[43mphi\u001b[49m\u001b[38;5;241;43m=\u001b[39;49m\u001b[43mphi\u001b[49m\u001b[43m,\u001b[49m\u001b[43mt\u001b[49m\u001b[38;5;241;43m=\u001b[39;49m\u001b[43mt\u001b[49m\u001b[43m)\u001b[49m\n\u001b[1;32m    642\u001b[0m \u001b[38;5;28;01mreturn\u001b[39;00m numpy\u001b[38;5;241m.\u001b[39marray([cosphi\u001b[38;5;241m*\u001b[39mRforce\u001b[38;5;241m-\u001b[39m\u001b[38;5;241m1.\u001b[39m\u001b[38;5;241m/\u001b[39mR\u001b[38;5;241m*\u001b[39msinphi\u001b[38;5;241m*\u001b[39mphiforce,\n\u001b[1;32m    643\u001b[0m                  sinphi\u001b[38;5;241m*\u001b[39mRforce\u001b[38;5;241m+\u001b[39m\u001b[38;5;241m1.\u001b[39m\u001b[38;5;241m/\u001b[39mR\u001b[38;5;241m*\u001b[39mcosphi\u001b[38;5;241m*\u001b[39mphiforce,\n\u001b[1;32m    644\u001b[0m                  _evaluatezforces(pot,R,x[\u001b[38;5;241m2\u001b[39m],phi\u001b[38;5;241m=\u001b[39mphi,t\u001b[38;5;241m=\u001b[39mt)])\n",
      "File \u001b[0;32m~/miniforge3/envs/precession2/lib/python3.8/site-packages/galpy/potential/Potential.py:1860\u001b[0m, in \u001b[0;36m_evaluatephiforces\u001b[0;34m(Pot, R, z, phi, t, v)\u001b[0m\n\u001b[1;32m   1858\u001b[0m \u001b[38;5;28;01mif\u001b[39;00m nonAxi \u001b[38;5;129;01mand\u001b[39;00m phi \u001b[38;5;129;01mis\u001b[39;00m \u001b[38;5;28;01mNone\u001b[39;00m:\n\u001b[1;32m   1859\u001b[0m     \u001b[38;5;28;01mraise\u001b[39;00m PotentialError(\u001b[38;5;124m\"\u001b[39m\u001b[38;5;124mThe (list of) Potential instances is non-axisymmetric, but you did not provide phi\u001b[39m\u001b[38;5;124m\"\u001b[39m)\n\u001b[0;32m-> 1860\u001b[0m dissipative\u001b[38;5;241m=\u001b[39m \u001b[43m_isDissipative\u001b[49m\u001b[43m(\u001b[49m\u001b[43mPot\u001b[49m\u001b[43m)\u001b[49m\n\u001b[1;32m   1861\u001b[0m \u001b[38;5;28;01mif\u001b[39;00m dissipative \u001b[38;5;129;01mand\u001b[39;00m v \u001b[38;5;129;01mis\u001b[39;00m \u001b[38;5;28;01mNone\u001b[39;00m:\n\u001b[1;32m   1862\u001b[0m     \u001b[38;5;28;01mraise\u001b[39;00m PotentialError(\u001b[38;5;124m\"\u001b[39m\u001b[38;5;124mThe (list of) Potential instances includes dissipative, but you did not provide the 3D velocity (required for dissipative forces\u001b[39m\u001b[38;5;124m\"\u001b[39m)\n",
      "File \u001b[0;32m~/miniforge3/envs/precession2/lib/python3.8/site-packages/galpy/potential/DissipativeForce.py:183\u001b[0m, in \u001b[0;36m_isDissipative\u001b[0;34m(obj)\u001b[0m\n\u001b[1;32m    160\u001b[0m \u001b[38;5;28;01mdef\u001b[39;00m \u001b[38;5;21m_isDissipative\u001b[39m(obj):\n\u001b[1;32m    161\u001b[0m     \u001b[38;5;124;03m\"\"\"\u001b[39;00m\n\u001b[1;32m    162\u001b[0m \u001b[38;5;124;03m    NAME:\u001b[39;00m\n\u001b[1;32m    163\u001b[0m \n\u001b[0;32m   (...)\u001b[0m\n\u001b[1;32m    181\u001b[0m \n\u001b[1;32m    182\u001b[0m \u001b[38;5;124;03m    \"\"\"\u001b[39;00m\n\u001b[0;32m--> 183\u001b[0m     \u001b[38;5;28;01mfrom\u001b[39;00m \u001b[38;5;21;01m.\u001b[39;00m\u001b[38;5;21;01mPotential\u001b[39;00m \u001b[38;5;28;01mimport\u001b[39;00m flatten\n\u001b[1;32m    184\u001b[0m     obj\u001b[38;5;241m=\u001b[39m flatten(obj)\n\u001b[1;32m    185\u001b[0m     isList\u001b[38;5;241m=\u001b[39m \u001b[38;5;28misinstance\u001b[39m(obj,\u001b[38;5;28mlist\u001b[39m)\n",
      "\u001b[0;31mKeyboardInterrupt\u001b[0m: "
     ]
    }
   ],
   "source": [
    "periods= 2.\n",
    "times= numpy.linspace(0.,periods*16.0455,100001)*u.yr # 2 periods\n",
    "kp= KeplerPotential(amp=MSgrA,ro=R0)\n",
    "o.integrate(times,kp)"
   ]
  },
  {
   "cell_type": "markdown",
   "metadata": {},
   "source": [
    "L'orbite obtenue pour Sgr A* en Ra et en Dec ne ressemble pas exactement à celle obtenue dans l'étude. Sûrement un problème de conversion d'unités."
   ]
  },
  {
   "cell_type": "code",
   "execution_count": null,
   "metadata": {},
   "outputs": [],
   "source": [
    "mpl.rcParams['figure.figsize'] = (5., 10.)\n",
    "o.plot(d1='(ra-{})*{}'.format(ogc.ra(),\n",
    "                              (u.deg/u.arcsec).to(u.dimensionless_unscaled,equivalencies=u.dimensionless_angles())),\n",
    "       d2='(dec-{})*{}'.format(ogc.dec(),\n",
    "                              (u.deg/u.arcsec).to(u.dimensionless_unscaled,equivalencies=u.dimensionless_angles())),\n",
    "      xlabel=r'$\\Delta \\mathrm{RA}\\,(\\mathrm{arcsec})$',\n",
    "      ylabel=r'$\\Delta \\mathrm{Dec}\\,(\\mathrm{arcsec})$')\n",
    "\n",
    "plt.plot([0.],[0.],'k+',ms=30.)\n",
    "plt.xlim(0.055,-0.075)\n",
    "plt.ylim(-0.03,0.21);"
   ]
  },
  {
   "cell_type": "markdown",
   "metadata": {},
   "source": [
    "## Modeling Schwarzschild precession\n",
    "\n",
    "Utilisons cette équation comme modèle pour la précession de Schwarzschild :\n",
    "\n",
    "\\begin{equation}\n",
    "    \\vec{a}_{\\mathrm{SP}} = f_\\mathrm{SP}\\,\\frac{GM}{c^2r^2}\\left[\\left(2(\\gamma+\\beta)\\,\\frac{GM}{r}-\\gamma\\,v^2\\right)\\frac{\\vec{r}}{r}+2(1+\\gamma)\\,v_r\\,\\vec{v}\\right]\\,.\n",
    "\\end{equation}\n"
   ]
  },
  {
   "cell_type": "code",
   "execution_count": null,
   "metadata": {},
   "outputs": [],
   "source": [
    "from galpy.potential.DissipativeForce import DissipativeForce\n",
    "from astropy.constants import c\n",
    "c= c.to_value(u.km/u.s)\n",
    "class SchwarzschildPrecessionForce(DissipativeForce):\n",
    "    def __init__(self,amp=1.,fsp=1.,gamma=1.,beta=1.,ro=None,vo=None):\n",
    "        DissipativeForce.__init__(self,amp=amp,ro=ro,vo=vo,\n",
    "                                  amp_units='mass')\n",
    "        self._fsp= fsp\n",
    "        self._gamma= gamma\n",
    "        self._beta= beta\n",
    "    # Following functions implement the vec{r}/r and \\vec{v} parts, respectively\n",
    "    def _force_firstterm(self,r,v):\n",
    "        return 1./(c/self._vo)**2./r**3.*(2.*(self._gamma+self._beta)*self._amp/r-self._gamma*v**2.)\n",
    "    def _force_secondterm(self,r,vr):\n",
    "        return 2.*(1.+self._gamma)/(c/self._vo)**2./r**2.*vr\n",
    "    # Now compute the three projections of the forve\n",
    "    def _Rforce(self,R,z,phi=0.,t=0.,v=None):\n",
    "        r= numpy.sqrt(R**2.+z**2.)\n",
    "        vr= R/r*v[0]+z/r*v[2]\n",
    "        vmag= numpy.sqrt(v[0]**2.+v[1]**2.+v[2]**2.)\n",
    "        return self._fsp*(self._force_firstterm(r,vmag)*R+self._force_secondterm(r,vr)*v[0])\n",
    "    def _zforce(self,R,z,phi=0.,t=0.,v=None):\n",
    "        r= numpy.sqrt(R**2.+z**2.)\n",
    "        vr= R/r*v[0]+z/r*v[2]\n",
    "        vmag= numpy.sqrt(v[0]**2.+v[1]**2.+v[2]**2.)\n",
    "        return self._fsp*(self._force_firstterm(r,vmag)*z+self._force_secondterm(r,vr)*v[2])\n",
    "    def _phiforce(self,R,z,phi=0.,t=0.,v=None):\n",
    "        r= numpy.sqrt(R**2.+z**2.)\n",
    "        vr= R/r*v[0]+z/r*v[2]\n",
    "        return self._fsp*(self._force_secondterm(r,vr)*v[1]*R)"
   ]
  },
  {
   "cell_type": "code",
   "execution_count": null,
   "metadata": {},
   "outputs": [],
   "source": [
    "sp= SchwarzschildPrecessionForce(amp=MSgrA,ro=R0,fsp=1.)"
   ]
  },
  {
   "cell_type": "code",
   "execution_count": null,
   "metadata": {},
   "outputs": [],
   "source": [
    "times= numpy.linspace(0.,5.*16.0455,1001)*u.yr\n",
    "o.integrate(times,kp)\n",
    "osp= o()\n",
    "osp.integrate(times,kp+sp)"
   ]
  },
  {
   "cell_type": "code",
   "execution_count": null,
   "metadata": {
    "scrolled": false
   },
   "outputs": [],
   "source": [
    "mpl.rcParams['figure.figsize'] = (5., 10.)\n",
    "osp.plot(d1='(ra-{})*{}'.format(ogc.ra(),\n",
    "                              (u.deg/u.arcsec).to(u.dimensionless_unscaled,equivalencies=u.dimensionless_angles())),\n",
    "       d2='(dec-{})*{}'.format(ogc.dec(),\n",
    "                              (u.deg/u.arcsec).to(u.dimensionless_unscaled,equivalencies=u.dimensionless_angles())),\n",
    "        xlabel=r'$\\Delta \\mathrm{RA}\\,(\\mathrm{arcsec})$',\n",
    "      ylabel=r'$\\Delta \\mathrm{Dec}\\,(\\mathrm{arcsec})$')\n",
    "plt.plot([0.],[0.],'k+',ms=30.)\n",
    "plt.xlim(0.075,-0.095)\n",
    "plt.ylim(-0.03,0.21);"
   ]
  },
  {
   "cell_type": "markdown",
   "metadata": {},
   "source": [
    "## Animation de l'orbite\n",
    "\n",
    "Ensuite, nous faisons une animation de la précession de l'orbite de S2. Pour cela, nous intégrons pendant un temps puis nous traçons les images successives d'une seule orbite :"
   ]
  },
  {
   "cell_type": "code",
   "execution_count": null,
   "metadata": {},
   "outputs": [],
   "source": [
    "nperiods= 200.\n",
    "times= numpy.linspace(0.,nperiods*16.0455,1000001)*u.yr # 4 periods\n",
    "o.integrate(times[times < 16.0455*u.yr],kp)\n",
    "osp= o()\n",
    "osp.integrate(times,kp+sp)"
   ]
  },
  {
   "cell_type": "code",
   "execution_count": null,
   "metadata": {},
   "outputs": [],
   "source": [
    "def delta_ra(ra):\n",
    "    return (ra-ogc.ra())*(u.deg/u.arcsec).to(u.dimensionless_unscaled,equivalencies=u.dimensionless_angles())\n",
    "def delta_dec(dec):\n",
    "    return (dec-ogc.dec())*(u.deg/u.arcsec).to(u.dimensionless_unscaled,equivalencies=u.dimensionless_angles())\n",
    "\n",
    "mpl.rcParams['figure.figsize'] = (6., 7.)\n",
    "\n",
    "fig, ax= plt.subplots()\n",
    "line2= plt.plot([0.],[0.],'k+',ms=10.)\n",
    "\n",
    "plt.xlabel(r'$\\Delta \\mathrm{RA}\\,(\\mathrm{arcsec})$')\n",
    "plt.ylabel(r'$\\Delta \\mathrm{Dec}\\,(\\mathrm{arcsec})$')\n",
    "plt.xlim(0.075,-0.25)\n",
    "plt.ylim(-0.19,0.26)\n",
    "\n",
    "nstride= round(len(times)/nperiods)+1\n",
    "line,= ax.plot(delta_ra(osp.ra(times[:nstride])),delta_dec(osp.dec(times[:nstride])),'-')\n",
    "txt= ax.annotate(r'$\\mathrm{year}=%.0f$' % (round(2010.35653101,-1)),\n",
    "                 (0.05,0.05),xycoords='axes fraction',\n",
    "                 horizontalalignment='left',verticalalignment='bottom',size=18.)\n",
    "plt.legend(frameon=False,fontsize=18.,loc='upper right')\n",
    "\n",
    "def animate(ii):\n",
    "    minii= int(round((ii+0.5)*nstride))\n",
    "    maxii= int(round((ii+1.5)*nstride))\n",
    "    line.set_xdata(delta_ra(osp.ra(times[minii:maxii])))\n",
    "    line.set_ydata(delta_dec(osp.dec(times[minii:maxii])))\n",
    "    txt.set_text(r'$\\mathrm{year}=%.0f$' % (round(2010.35653101+times[ii*nstride].to_value(u.yr),-1)))\n",
    "    return (line,)\n",
    "anim = animation.FuncAnimation(fig,animate,#init_func=init_anim_frame,\n",
    "                               frames=len(times)//nstride,interval=1,blit=True,repeat=True)\n",
    "plt.tight_layout()\n",
    "anim.save('gravity-sp.gif',writer='ffmpeg',dpi=200)\n",
    "# The following is necessary to just get the movie, and not an additional initial frame\n",
    "plt.close()"
   ]
  },
  {
   "cell_type": "code",
   "execution_count": null,
   "metadata": {},
   "outputs": [],
   "source": []
  }
 ],
 "metadata": {
  "interpreter": {
   "hash": "9deb5d9ed018adea880a176a7aaea28af5cb4596cb592b2e56edac9da18af055"
  },
  "kernelspec": {
   "display_name": "precession2",
   "language": "python",
   "name": "precession2"
  },
  "language_info": {
   "codemirror_mode": {
    "name": "ipython",
    "version": 3
   },
   "file_extension": ".py",
   "mimetype": "text/x-python",
   "name": "python",
   "nbconvert_exporter": "python",
   "pygments_lexer": "ipython3",
   "version": "3.8.12"
  },
  "toc": {
   "base_numbering": 1,
   "nav_menu": {},
   "number_sections": false,
   "sideBar": true,
   "skip_h1_title": false,
   "title_cell": "Table of Contents",
   "title_sidebar": "Contents",
   "toc_cell": false,
   "toc_position": {},
   "toc_section_display": true,
   "toc_window_display": false
  }
 },
 "nbformat": 4,
 "nbformat_minor": 2
}
